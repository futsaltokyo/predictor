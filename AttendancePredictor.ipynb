{
 "cells": [
  {
   "cell_type": "code",
   "execution_count": 1,
   "metadata": {},
   "outputs": [
    {
     "name": "stdout",
     "output_type": "stream",
     "text": [
      "FileRead Done!\n",
      "(33473, 4)\n"
     ]
    }
   ],
   "source": [
    "# Load CSV Data\n",
    "import csv\n",
    "import numpy as np\n",
    "\n",
    "from sklearn.model_selection import train_test_split\n",
    "from sklearn import svm\n",
    "\n",
    "\n",
    "FILEPATH = 'history.csv'\n",
    "HEADERS = ['member_id', 'venue_id', 'day_of_week', 'date', 'month', 'attendance']\n",
    "\n",
    "FEATURES = {'member_id': int, 'venue_id': int, 'date': int, 'month': int}\n",
    "LABEL = 'attendance'\n",
    "\n",
    "X, Y = [], []\n",
    "with open(FILEPATH, 'r') as f:\n",
    "    reader = csv.DictReader(f, fieldnames=HEADERS)\n",
    "    next(reader)\n",
    "    X, Y = zip(*[\n",
    "        ([typ(row[key]) for key, typ in FEATURES.items()], row.get(LABEL))\n",
    "        for row in reader\n",
    "    ])\n",
    "\n",
    "print(\"FileRead Done!\")\n",
    "print(np.array(X).shape)"
   ]
  },
  {
   "cell_type": "code",
   "execution_count": 2,
   "metadata": {},
   "outputs": [],
   "source": [
    "# split the data\n",
    "X_train, X_test, Y_train, Y_test = train_test_split(X, Y, test_size=0.3)"
   ]
  },
  {
   "cell_type": "code",
   "execution_count": 3,
   "metadata": {
    "scrolled": true
   },
   "outputs": [],
   "source": [
    "# Y_train = [int(n) for n in Y_test if n != \"\"]\n",
    "# There is blank label at Y_train(20019)\n",
    "def to_int(list):\n",
    "    temp = []\n",
    "    for n in list:\n",
    "        if n == \"\":\n",
    "            n = 0\n",
    "        temp.append(int(n))\n",
    "    return temp\n",
    "Y_train = to_int(Y_train)\n",
    "Y_test = to_int(Y_test)"
   ]
  },
  {
   "cell_type": "code",
   "execution_count": 4,
   "metadata": {},
   "outputs": [
    {
     "name": "stdout",
     "output_type": "stream",
     "text": [
      "0\n"
     ]
    }
   ],
   "source": [
    "print(Y_train[20019])"
   ]
  },
  {
   "cell_type": "code",
   "execution_count": 5,
   "metadata": {},
   "outputs": [
    {
     "name": "stderr",
     "output_type": "stream",
     "text": [
      "Using TensorFlow backend.\n"
     ]
    }
   ],
   "source": [
    "from keras.utils import to_categorical\n",
    "\n",
    "num_classes = 2\n",
    "\n",
    "Y_train_categorical = to_categorical(Y_train, num_classes)\n",
    "Y_test_categorical = to_categorical(Y_test, num_classes)"
   ]
  },
  {
   "cell_type": "code",
   "execution_count": 6,
   "metadata": {},
   "outputs": [
    {
     "name": "stdout",
     "output_type": "stream",
     "text": [
      "(23431, 4)\n"
     ]
    }
   ],
   "source": [
    "print(np.array(X_train).shape)"
   ]
  },
  {
   "cell_type": "code",
   "execution_count": 17,
   "metadata": {},
   "outputs": [
    {
     "name": "stdout",
     "output_type": "stream",
     "text": [
      "_________________________________________________________________\n",
      "Layer (type)                 Output Shape              Param #   \n",
      "=================================================================\n",
      "dense_7 (Dense)              (None, 60)                300       \n",
      "_________________________________________________________________\n",
      "dense_8 (Dense)              (None, 2)                 122       \n",
      "=================================================================\n",
      "Total params: 422.0\n",
      "Trainable params: 422\n",
      "Non-trainable params: 0.0\n",
      "_________________________________________________________________\n"
     ]
    }
   ],
   "source": [
    "from keras.models import Sequential\n",
    "from keras.layers import Dense\n",
    "\n",
    "# create model\n",
    "model = Sequential()\n",
    "model.add(Dense(60, input_dim=4, kernel_initializer='normal', activation='relu'))\n",
    "model.add(Dense(2, kernel_initializer='normal', activation='sigmoid'))\n",
    "model.compile(loss='binary_crossentropy', optimizer='adam', metrics=['accuracy'])\n",
    "model.summary()"
   ]
  },
  {
   "cell_type": "code",
   "execution_count": 18,
   "metadata": {
    "collapsed": true
   },
   "outputs": [],
   "source": [
    "from keras.utils import plot_model\n",
    "plot_model(model, show_shapes=True, to_file=\"attendance_predictor.png\")"
   ]
  },
  {
   "cell_type": "code",
   "execution_count": 19,
   "metadata": {},
   "outputs": [
    {
     "name": "stdout",
     "output_type": "stream",
     "text": [
      "Train on 23431 samples, validate on 10042 samples\n",
      "Epoch 1/10\n",
      "23431/23431 [==============================] - 2s - loss: 0.6670 - acc: 0.9584 - val_loss: 0.6385 - val_acc: 0.9602\n",
      "Epoch 2/10\n",
      "23431/23431 [==============================] - 1s - loss: 0.6670 - acc: 0.9584 - val_loss: 0.6385 - val_acc: 0.9602\n",
      "Epoch 3/10\n",
      "23431/23431 [==============================] - 1s - loss: 0.6670 - acc: 0.9584 - val_loss: 0.6385 - val_acc: 0.9602\n",
      "Epoch 4/10\n",
      "23431/23431 [==============================] - 1s - loss: 0.6670 - acc: 0.9584 - val_loss: 0.6385 - val_acc: 0.9602\n",
      "Epoch 5/10\n",
      "23431/23431 [==============================] - 1s - loss: 0.6670 - acc: 0.9584 - val_loss: 0.6385 - val_acc: 0.9602\n",
      "Epoch 6/10\n",
      "23431/23431 [==============================] - 1s - loss: 0.6670 - acc: 0.9584 - val_loss: 0.6385 - val_acc: 0.9602\n",
      "Epoch 7/10\n",
      "23431/23431 [==============================] - 1s - loss: 0.6670 - acc: 0.9584 - val_loss: 0.6385 - val_acc: 0.9602\n",
      "Epoch 8/10\n",
      "23431/23431 [==============================] - 1s - loss: 0.6670 - acc: 0.9584 - val_loss: 0.6385 - val_acc: 0.9602\n",
      "Epoch 9/10\n",
      "23431/23431 [==============================] - 2s - loss: 0.6670 - acc: 0.9584 - val_loss: 0.6385 - val_acc: 0.9602\n",
      "Epoch 10/10\n",
      "23431/23431 [==============================] - 1s - loss: 0.6670 - acc: 0.9584 - val_loss: 0.6385 - val_acc: 0.9602\n"
     ]
    }
   ],
   "source": [
    "history = model.fit(X_train, Y_train_categorical, batch_size=32, epochs=10, verbose=1, callbacks=None,\n",
    "    validation_data=(X_test, Y_test_categorical), shuffle=True)"
   ]
  },
  {
   "cell_type": "code",
   "execution_count": 23,
   "metadata": {},
   "outputs": [
    {
     "data": {
      "text/plain": [
       "array([[ 1.,  0.]], dtype=float32)"
      ]
     },
     "execution_count": 23,
     "metadata": {},
     "output_type": "execute_result"
    }
   ],
   "source": [
    "x = np.array([[624285, 25072259, 2, 7]])\n",
    "model.predict(x, batch_size=32, verbose=0)"
   ]
  }
 ],
 "metadata": {
  "kernelspec": {
   "display_name": "Python 3",
   "language": "python",
   "name": "python3"
  },
  "language_info": {
   "codemirror_mode": {
    "name": "ipython",
    "version": 3
   },
   "file_extension": ".py",
   "mimetype": "text/x-python",
   "name": "python",
   "nbconvert_exporter": "python",
   "pygments_lexer": "ipython3",
   "version": "3.5.1"
  }
 },
 "nbformat": 4,
 "nbformat_minor": 2
}
